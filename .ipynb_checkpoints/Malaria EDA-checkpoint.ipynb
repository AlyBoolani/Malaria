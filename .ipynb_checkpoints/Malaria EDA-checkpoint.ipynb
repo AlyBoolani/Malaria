{
 "cells": [
  {
   "cell_type": "markdown",
   "metadata": {},
   "source": [
    "##### Imports"
   ]
  },
  {
   "cell_type": "code",
   "execution_count": 1,
   "metadata": {},
   "outputs": [],
   "source": [
    "import numpy as np\n",
    "import pandas as pd\n",
    "import matplotlib.pyplot as plt\n",
    "import seaborn as sns\n",
    "\n",
    "\n",
    "%matplotlib inline"
   ]
  },
  {
   "cell_type": "markdown",
   "metadata": {},
   "source": [
    "# Malaria\n",
    "\n",
    "**Description of Malaria**"
   ]
  },
  {
   "cell_type": "code",
   "execution_count": 21,
   "metadata": {
    "scrolled": false
   },
   "outputs": [
    {
     "data": {
      "text/html": [
       "<div>\n",
       "<style scoped>\n",
       "    .dataframe tbody tr th:only-of-type {\n",
       "        vertical-align: middle;\n",
       "    }\n",
       "\n",
       "    .dataframe tbody tr th {\n",
       "        vertical-align: top;\n",
       "    }\n",
       "\n",
       "    .dataframe thead th {\n",
       "        text-align: right;\n",
       "    }\n",
       "</style>\n",
       "<table border=\"1\" class=\"dataframe\">\n",
       "  <thead>\n",
       "    <tr style=\"text-align: right;\">\n",
       "      <th></th>\n",
       "      <th>Country</th>\n",
       "      <th>Year</th>\n",
       "      <th>No. of cases</th>\n",
       "      <th>No. of deaths</th>\n",
       "      <th>No. of cases_median</th>\n",
       "      <th>No. of cases_min</th>\n",
       "      <th>No. of cases_max</th>\n",
       "      <th>No. of deaths_median</th>\n",
       "      <th>No. of deaths_min</th>\n",
       "      <th>No. of deaths_max</th>\n",
       "      <th>WHO Region</th>\n",
       "    </tr>\n",
       "  </thead>\n",
       "  <tbody>\n",
       "    <tr>\n",
       "      <td>0</td>\n",
       "      <td>Afghanistan</td>\n",
       "      <td>2017</td>\n",
       "      <td>630308[495000-801000]</td>\n",
       "      <td>298[110-510]</td>\n",
       "      <td>630308</td>\n",
       "      <td>495000.0</td>\n",
       "      <td>801000.0</td>\n",
       "      <td>298</td>\n",
       "      <td>110.0</td>\n",
       "      <td>510.0</td>\n",
       "      <td>Eastern Mediterranean</td>\n",
       "    </tr>\n",
       "    <tr>\n",
       "      <td>1</td>\n",
       "      <td>Algeria</td>\n",
       "      <td>2017</td>\n",
       "      <td>0</td>\n",
       "      <td>0</td>\n",
       "      <td>0</td>\n",
       "      <td>NaN</td>\n",
       "      <td>NaN</td>\n",
       "      <td>0</td>\n",
       "      <td>NaN</td>\n",
       "      <td>NaN</td>\n",
       "      <td>Africa</td>\n",
       "    </tr>\n",
       "    <tr>\n",
       "      <td>2</td>\n",
       "      <td>Angola</td>\n",
       "      <td>2017</td>\n",
       "      <td>4615605[3106000-6661000]</td>\n",
       "      <td>13316[9970-16600]</td>\n",
       "      <td>4615605</td>\n",
       "      <td>3106000.0</td>\n",
       "      <td>6661000.0</td>\n",
       "      <td>13316</td>\n",
       "      <td>9970.0</td>\n",
       "      <td>16600.0</td>\n",
       "      <td>Africa</td>\n",
       "    </tr>\n",
       "    <tr>\n",
       "      <td>3</td>\n",
       "      <td>Argentina</td>\n",
       "      <td>2017</td>\n",
       "      <td>0</td>\n",
       "      <td>0</td>\n",
       "      <td>0</td>\n",
       "      <td>NaN</td>\n",
       "      <td>NaN</td>\n",
       "      <td>0</td>\n",
       "      <td>NaN</td>\n",
       "      <td>NaN</td>\n",
       "      <td>Americas</td>\n",
       "    </tr>\n",
       "    <tr>\n",
       "      <td>4</td>\n",
       "      <td>Armenia</td>\n",
       "      <td>2017</td>\n",
       "      <td>0</td>\n",
       "      <td>0</td>\n",
       "      <td>0</td>\n",
       "      <td>NaN</td>\n",
       "      <td>NaN</td>\n",
       "      <td>0</td>\n",
       "      <td>NaN</td>\n",
       "      <td>NaN</td>\n",
       "      <td>Europe</td>\n",
       "    </tr>\n",
       "    <tr>\n",
       "      <td>...</td>\n",
       "      <td>...</td>\n",
       "      <td>...</td>\n",
       "      <td>...</td>\n",
       "      <td>...</td>\n",
       "      <td>...</td>\n",
       "      <td>...</td>\n",
       "      <td>...</td>\n",
       "      <td>...</td>\n",
       "      <td>...</td>\n",
       "      <td>...</td>\n",
       "      <td>...</td>\n",
       "    </tr>\n",
       "    <tr>\n",
       "      <td>851</td>\n",
       "      <td>Venezuela (Bolivarian Republic of)</td>\n",
       "      <td>2010</td>\n",
       "      <td>57257[47000-74000]</td>\n",
       "      <td>52[9-90]</td>\n",
       "      <td>57257</td>\n",
       "      <td>47000.0</td>\n",
       "      <td>74000.0</td>\n",
       "      <td>52</td>\n",
       "      <td>9.0</td>\n",
       "      <td>90.0</td>\n",
       "      <td>Americas</td>\n",
       "    </tr>\n",
       "    <tr>\n",
       "      <td>852</td>\n",
       "      <td>Viet Nam</td>\n",
       "      <td>2010</td>\n",
       "      <td>23062[21000-26000]</td>\n",
       "      <td>45[2-80]</td>\n",
       "      <td>23062</td>\n",
       "      <td>21000.0</td>\n",
       "      <td>26000.0</td>\n",
       "      <td>45</td>\n",
       "      <td>2.0</td>\n",
       "      <td>80.0</td>\n",
       "      <td>Western Pacific</td>\n",
       "    </tr>\n",
       "    <tr>\n",
       "      <td>853</td>\n",
       "      <td>Yemen</td>\n",
       "      <td>2010</td>\n",
       "      <td>1134927[611000-2686000]</td>\n",
       "      <td>2874[90-8490]</td>\n",
       "      <td>1134927</td>\n",
       "      <td>611000.0</td>\n",
       "      <td>2686000.0</td>\n",
       "      <td>2874</td>\n",
       "      <td>90.0</td>\n",
       "      <td>8490.0</td>\n",
       "      <td>Eastern Mediterranean</td>\n",
       "    </tr>\n",
       "    <tr>\n",
       "      <td>854</td>\n",
       "      <td>Zambia</td>\n",
       "      <td>2010</td>\n",
       "      <td>2169307[1449000-3095000]</td>\n",
       "      <td>6544[5580-7510]</td>\n",
       "      <td>2169307</td>\n",
       "      <td>1449000.0</td>\n",
       "      <td>3095000.0</td>\n",
       "      <td>6544</td>\n",
       "      <td>5580.0</td>\n",
       "      <td>7510.0</td>\n",
       "      <td>Africa</td>\n",
       "    </tr>\n",
       "    <tr>\n",
       "      <td>855</td>\n",
       "      <td>Zimbabwe</td>\n",
       "      <td>2010</td>\n",
       "      <td>1095083[606000-1717000]</td>\n",
       "      <td>2803[80-6190]</td>\n",
       "      <td>1095083</td>\n",
       "      <td>606000.0</td>\n",
       "      <td>1717000.0</td>\n",
       "      <td>2803</td>\n",
       "      <td>80.0</td>\n",
       "      <td>6190.0</td>\n",
       "      <td>Africa</td>\n",
       "    </tr>\n",
       "  </tbody>\n",
       "</table>\n",
       "<p>856 rows × 11 columns</p>\n",
       "</div>"
      ],
      "text/plain": [
       "                                Country  Year              No. of cases  \\\n",
       "0                           Afghanistan  2017     630308[495000-801000]   \n",
       "1                               Algeria  2017                         0   \n",
       "2                                Angola  2017  4615605[3106000-6661000]   \n",
       "3                             Argentina  2017                         0   \n",
       "4                               Armenia  2017                         0   \n",
       "..                                  ...   ...                       ...   \n",
       "851  Venezuela (Bolivarian Republic of)  2010        57257[47000-74000]   \n",
       "852                            Viet Nam  2010        23062[21000-26000]   \n",
       "853                               Yemen  2010   1134927[611000-2686000]   \n",
       "854                              Zambia  2010  2169307[1449000-3095000]   \n",
       "855                            Zimbabwe  2010   1095083[606000-1717000]   \n",
       "\n",
       "         No. of deaths  No. of cases_median  No. of cases_min  \\\n",
       "0         298[110-510]               630308          495000.0   \n",
       "1                    0                    0               NaN   \n",
       "2    13316[9970-16600]              4615605         3106000.0   \n",
       "3                    0                    0               NaN   \n",
       "4                    0                    0               NaN   \n",
       "..                 ...                  ...               ...   \n",
       "851           52[9-90]                57257           47000.0   \n",
       "852           45[2-80]                23062           21000.0   \n",
       "853      2874[90-8490]              1134927          611000.0   \n",
       "854    6544[5580-7510]              2169307         1449000.0   \n",
       "855      2803[80-6190]              1095083          606000.0   \n",
       "\n",
       "     No. of cases_max  No. of deaths_median  No. of deaths_min  \\\n",
       "0            801000.0                   298              110.0   \n",
       "1                 NaN                     0                NaN   \n",
       "2           6661000.0                 13316             9970.0   \n",
       "3                 NaN                     0                NaN   \n",
       "4                 NaN                     0                NaN   \n",
       "..                ...                   ...                ...   \n",
       "851           74000.0                    52                9.0   \n",
       "852           26000.0                    45                2.0   \n",
       "853         2686000.0                  2874               90.0   \n",
       "854         3095000.0                  6544             5580.0   \n",
       "855         1717000.0                  2803               80.0   \n",
       "\n",
       "     No. of deaths_max             WHO Region  \n",
       "0                510.0  Eastern Mediterranean  \n",
       "1                  NaN                 Africa  \n",
       "2              16600.0                 Africa  \n",
       "3                  NaN               Americas  \n",
       "4                  NaN                 Europe  \n",
       "..                 ...                    ...  \n",
       "851               90.0               Americas  \n",
       "852               80.0        Western Pacific  \n",
       "853             8490.0  Eastern Mediterranean  \n",
       "854             7510.0                 Africa  \n",
       "855             6190.0                 Africa  \n",
       "\n",
       "[856 rows x 11 columns]"
      ]
     },
     "execution_count": 21,
     "metadata": {},
     "output_type": "execute_result"
    }
   ],
   "source": [
    "# Let's read in the data first\n",
    "df = pd.read_csv('Malaria.csv')\n",
    "df"
   ]
  },
  {
   "cell_type": "markdown",
   "metadata": {},
   "source": [
    "**First Observations**\n",
    "\n",
    "There are 856 data points with 11 attributes and are described as follows along with subtle observations and next steps \n",
    "\n",
    "- `Country` is the country the cases is in. \n",
    "- `Year` is the year when the diseases was took place\n",
    "\n",
    "\n",
    "- `No. of cases` - total number of cases\n",
    "    - 630308[495000-801000] - it seems like these numbers are different and tend to be repeated for the following\n",
    "        - `No. of cases_median` - being 630,308\n",
    "        - `No. of cases_min` - being 495,000\n",
    "        - `No. of cases_max` - being 801,000\n",
    "        \n",
    "        \n",
    "- `No. of deaths`- represents the number of deaths \n",
    "    - 298[110-510] - it seems like these numbers are put altogether and but tend to be repeated for the following\n",
    "        - `No. of deaths_median` - being 298\n",
    "        - `No. of deaths_min` - being 110\n",
    "        - `No. of deaths_max` - being 510\n",
    "\n",
    "- `No. of cases_median` - represents the median number of **malaria** cases\n",
    "\n",
    "- `No. of cases_min` - represents the minimum number of **malaria** cases\n",
    "\n",
    "- `No. of cases_max` - represents the maximum number of **malaria** cases\n",
    "\n",
    "- `No. of deaths_median` - represents the median number of **malaria** deaths\n",
    "\n",
    "- `No. of deaths_min` - represents the minimum number of **malaria** deaths\n",
    "\n",
    "- `No. of deaths_max` - represents the maximum number of **malaria** deaths\n",
    "\n",
    "- `WHO Region` - represents the WHO region \n"
   ]
  },
  {
   "cell_type": "code",
   "execution_count": 4,
   "metadata": {},
   "outputs": [
    {
     "data": {
      "text/plain": [
       "Country                  object\n",
       "Year                      int64\n",
       "No. of cases             object\n",
       "No. of deaths            object\n",
       "No. of cases_median       int64\n",
       "No. of cases_min        float64\n",
       "No. of cases_max        float64\n",
       "No. of deaths_median      int64\n",
       "No. of deaths_min       float64\n",
       "No. of deaths_max       float64\n",
       "WHO Region               object\n",
       "dtype: object"
      ]
     },
     "execution_count": 4,
     "metadata": {},
     "output_type": "execute_result"
    }
   ],
   "source": [
    "# Let's take a look at the datatypes first\n",
    "df.dtypes"
   ]
  },
  {
   "cell_type": "code",
   "execution_count": 11,
   "metadata": {},
   "outputs": [],
   "source": [
    "# Before we dive into more details, the first observation we see is that some data types need to be changed as follows:\n",
    "\n",
    "# Ensuring Country and WHO Region is in string format\n",
    "df['Country'] = df['Country'].astype(str)\n",
    "df['WHO Region'] = df['WHO Region'].astype(str)\n",
    "\n",
    "# Ensuring Year is in datetime format so it can be extracted and represented \n",
    "df['Year'] = pd.to_datetime(df['Year'])\n"
   ]
  },
  {
   "cell_type": "code",
   "execution_count": 12,
   "metadata": {
    "scrolled": true
   },
   "outputs": [
    {
     "name": "stdout",
     "output_type": "stream",
     "text": [
      "<class 'pandas.core.frame.DataFrame'>\n",
      "RangeIndex: 856 entries, 0 to 855\n",
      "Data columns (total 11 columns):\n",
      "Country                 856 non-null object\n",
      "Year                    856 non-null datetime64[ns]\n",
      "No. of cases            856 non-null object\n",
      "No. of deaths           856 non-null object\n",
      "No. of cases_median     856 non-null int64\n",
      "No. of cases_min        544 non-null float64\n",
      "No. of cases_max        544 non-null float64\n",
      "No. of deaths_median    856 non-null int64\n",
      "No. of deaths_min       524 non-null float64\n",
      "No. of deaths_max       524 non-null float64\n",
      "WHO Region              856 non-null object\n",
      "dtypes: datetime64[ns](1), float64(4), int64(2), object(4)\n",
      "memory usage: 73.7+ KB\n"
     ]
    }
   ],
   "source": [
    "# Let's get some basic information of the data\n",
    "df.info()"
   ]
  },
  {
   "cell_type": "markdown",
   "metadata": {},
   "source": [
    "We can see that there seems to be some missing values. Let's take a look at these:"
   ]
  },
  {
   "cell_type": "code",
   "execution_count": 8,
   "metadata": {},
   "outputs": [
    {
     "data": {
      "text/plain": [
       "Country                   0\n",
       "Year                      0\n",
       "No. of cases              0\n",
       "No. of deaths             0\n",
       "No. of cases_median       0\n",
       "No. of cases_min        312\n",
       "No. of cases_max        312\n",
       "No. of deaths_median      0\n",
       "No. of deaths_min       332\n",
       "No. of deaths_max       332\n",
       "WHO Region                0\n",
       "dtype: int64"
      ]
     },
     "execution_count": 8,
     "metadata": {},
     "output_type": "execute_result"
    }
   ],
   "source": [
    "# Checking for missing values\n",
    "df.isna().sum()"
   ]
  },
  {
   "cell_type": "markdown",
   "metadata": {},
   "source": [
    "**We can see that there are some null values, but looking over the data for the first time, we did notice that these missing values were overlapped in number of cases and deaths columns**"
   ]
  },
  {
   "cell_type": "code",
   "execution_count": 19,
   "metadata": {
    "scrolled": true
   },
   "outputs": [
    {
     "data": {
      "text/plain": [
       "Timestamp('1970-01-01 00:00:00.000002017')"
      ]
     },
     "execution_count": 19,
     "metadata": {},
     "output_type": "execute_result"
    }
   ],
   "source": [
    "df['Year'][0]"
   ]
  },
  {
   "cell_type": "code",
   "execution_count": 26,
   "metadata": {},
   "outputs": [
    {
     "data": {
      "image/png": "[encoded data removed]",
      "text/plain": [
       "<Figure size 432x288 with 1 Axes>"
      ]
     },
     "metadata": {
      "needs_background": "light"
     },
     "output_type": "display_data"
    }
   ],
   "source": [
    "plt.figure()\n",
    "plt.hist(df['Year'])\n",
    "plt.show()"
   ]
  },
  {
   "cell_type": "code",
   "execution_count": 20,
   "metadata": {
    "scrolled": true
   },
   "outputs": [
    {
     "data": {
      "image/png": "[encoded data removed]",
      "text/plain": [
       "<Figure size 432x288 with 1 Axes>"
      ]
     },
     "metadata": {
      "needs_background": "light"
     },
     "output_type": "display_data"
    }
   ],
   "source": [
    "plt.figure()\n",
    "df['No. of deaths_max'].groupby(by = df['Country']).plot(kind = 'bar')\n",
    "\n",
    "plt.show()"
   ]
  },
  {
   "cell_type": "code",
   "execution_count": 16,
   "metadata": {},
   "outputs": [
    {
     "data": {
      "text/plain": [
       "107"
      ]
     },
     "execution_count": 16,
     "metadata": {},
     "output_type": "execute_result"
    }
   ],
   "source": [
    "df['Country'].nunique()"
   ]
  },
  {
   "cell_type": "code",
   "execution_count": 50,
   "metadata": {},
   "outputs": [
    {
     "data": {
      "image/png": "[encoded data removed]",
      "text/plain": [
       "<Figure size 432x288 with 1 Axes>"
      ]
     },
     "metadata": {
      "needs_background": "light"
     },
     "output_type": "display_data"
    }
   ],
   "source": [
    "plt.figure()\n",
    "sns.countplot(df['Year'], color = 'green')\n",
    "plt.xlabel('Years')\n",
    "plt.ylabel('Malaria Count')\n",
    "plt.show()"
   ]
  },
  {
   "cell_type": "code",
   "execution_count": 13,
   "metadata": {},
   "outputs": [
    {
     "data": {
      "image/png": "[encoded data removed]",
      "text/plain": [
       "<Figure size 720x720 with 1 Axes>"
      ]
     },
     "metadata": {
      "needs_background": "light"
     },
     "output_type": "display_data"
    }
   ],
   "source": [
    "plt.figure(figsize = (10,10))\n",
    "df['No. of deaths_median'].groupby(by = df['Year']).plot()\n",
    "plt.show()"
   ]
  },
  {
   "cell_type": "code",
   "execution_count": null,
   "metadata": {},
   "outputs": [],
   "source": []
  }
 ],
 "metadata": {
  "kernelspec": {
   "display_name": "Python 3",
   "language": "python",
   "name": "python3"
  },
  "language_info": {
   "codemirror_mode": {
    "name": "ipython",
    "version": 3
   },
   "file_extension": ".py",
   "mimetype": "text/x-python",
   "name": "python",
   "nbconvert_exporter": "python",
   "pygments_lexer": "ipython3",
   "version": "3.7.4"
  }
 },
 "nbformat": 4,
 "nbformat_minor": 2
}
